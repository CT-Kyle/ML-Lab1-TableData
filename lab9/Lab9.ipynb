{
 "cells": [
  {
   "cell_type": "markdown",
   "metadata": {},
   "source": [
    "## Preparation (40 points total)\n",
    "### [20 points] Define and prepare your class variables. Use proper variable representations (int, float, one-hot, etc.). Use pre-processing methods (as needed) for dimensionality reduction, scaling, etc. Remove variables that are not needed/useful for the analysis. Describe the final dataset that is used for classification/regression (include a description of any newly formed variables you created).   "
   ]
  },
  {
   "cell_type": "code",
   "execution_count": 1,
   "metadata": {},
   "outputs": [
    {
     "name": "stderr",
     "output_type": "stream",
     "text": [
      "Using TensorFlow backend.\n"
     ]
    }
   ],
   "source": [
    "import numpy as np\n",
    "import pandas as pd\n",
    "import keras\n",
    "from keras.preprocessing import sequence\n",
    "\n",
    "raw_df = pd.read_csv('./south-park-dialogue/All-seasons.csv')"
   ]
  },
  {
   "cell_type": "code",
   "execution_count": 2,
   "metadata": {},
   "outputs": [
    {
     "name": "stdout",
     "output_type": "stream",
     "text": [
      "Removing all characters with less than 100 lines\n",
      "Total Characters to Remove: 3885\n",
      "Total Characters Left:  65\n",
      "Leftover Classes:\n",
      "['Announcer' 'Barbrady' 'Bebe' 'Butters' 'Cartman' 'Chef' 'Chris' 'Clerk'\n",
      " 'Clyde' 'Coon' 'Craig' 'Crowd' 'Doctor' 'Dr. Doctor' 'General' 'Gerald'\n",
      " 'Ike' 'Jesus' 'Jimbo' 'Jimmy' 'Kenny' 'Kids' 'Kyle' 'Liane' 'Linda' 'Man'\n",
      " 'Man 1' 'Man 2' 'Mark' 'Mayor' 'Mayor McDaniels' 'Mephesto' 'Michael'\n",
      " 'Mr. Garrison' 'Mr. Hankey' 'Mr. Mackey' 'Mrs. Garrison' 'Ms. Choksondik'\n",
      " 'Mysterion' 'Narrator' 'Ned' 'Officer Barbrady' 'Pete' 'Phillip' 'Pip'\n",
      " 'Principal Victoria' 'Randy' 'Reporter' 'Satan' 'Scott' 'Sharon' 'Sheila'\n",
      " 'Shelly' 'Stan' 'Stephen' 'Stuart' 'Terrance' 'The Boys' 'Timmy' 'Token'\n",
      " 'Towelie' 'Tweek' 'Wendy' 'Woman' 'Yates']\n"
     ]
    }
   ],
   "source": [
    "all_classes = raw_df['Character'].values\n",
    "df = pd.DataFrame(raw_df.drop(['Character', 'Season', 'Episode'], axis=1).values, index=raw_df['Character'], columns=['Line'])\n",
    "\n",
    "uniques, counts = np.unique(all_classes, return_counts=True)\n",
    "num_classes = len(uniques)\n",
    "\n",
    "to_delete = []\n",
    "names_to_delete = []\n",
    "\n",
    "character_line_minimum = 100\n",
    "\n",
    "for i, idx in enumerate(counts):\n",
    "    if idx < character_line_minimum:\n",
    "        names_to_delete.append(uniques[i])\n",
    "    \n",
    "print(\"Removing all characters with less than\", character_line_minimum, \"lines\")\n",
    "print(\"Total Characters to Remove:\",len(names_to_delete))\n",
    "print(\"Total Characters Left: \",len(uniques) - len(names_to_delete))\n",
    "\n",
    "df = df.drop(names_to_delete, axis=0)\n",
    "\n",
    "new_uniques, y_ints, counts = np.unique(df.index.values, return_inverse=True,return_counts=True)\n",
    "num_classes = len(new_uniques)\n",
    "print(\"Leftover Classes:\")\n",
    "print(new_uniques)\n",
    "\n",
    "X_preprep = df['Line'].values\n",
    "y_values = df.index.values"
   ]
  },
  {
   "cell_type": "code",
   "execution_count": 3,
   "metadata": {},
   "outputs": [],
   "source": [
    "from keras.preprocessing.text import Tokenizer\n",
    "from keras.preprocessing.sequence import pad_sequences\n",
    "\n",
    "NUM_TOP_WORDS = None\n",
    "padding = 100\n",
    "\n",
    "tokenizer = Tokenizer(num_words=NUM_TOP_WORDS)\n",
    "tokenizer.fit_on_texts(X_preprep)\n",
    "sequences = tokenizer.texts_to_sequences(X_preprep)\n",
    "\n",
    "X = pad_sequences(sequences, maxlen=padding)\n"
   ]
  },
  {
   "cell_type": "code",
   "execution_count": 4,
   "metadata": {
    "collapsed": true
   },
   "outputs": [],
   "source": [
    "embeddings_index = {}\n",
    "word_index = tokenizer.word_index\n",
    "embed_size = 100\n",
    "\n",
    "f = open('glove.6B/glove.6B.100d.txt', encoding='utf-8')\n",
    "for line in f:\n",
    "    values = line.split()\n",
    "    word = values[0]\n",
    "    coefs = np.asarray(values[1:], dtype='float32')\n",
    "    embeddings_index[word] = coefs\n",
    "f.close()\n",
    "\n",
    "embedding_matrix = np.zeros((len(word_index) + 1, embed_size))\n",
    "for word, i in word_index.items():\n",
    "    embedding_vector = embeddings_index.get(word)\n",
    "    if embedding_vector is not None:\n",
    "        # words not found in embedding index will be all-zeros.\n",
    "        embedding_matrix[i] = embedding_vector"
   ]
  },
  {
   "cell_type": "markdown",
   "metadata": {},
   "source": [
    "### [10 points] Choose and explain what metric(s) you will use to evaluate your algorithm’s performance. You should give a detailed argument for why this (these) metric(s) are appropriate on your data. That is, why is the metric appropriate for the task (e.g., in terms of the business case for the task). Please note: rarely is accuracy the best evaluation metric to use. Think deeply about an appropriate measure of performance.\n"
   ]
  },
  {
   "cell_type": "markdown",
   "metadata": {},
   "source": [
    "### [10 points] Choose the method you will use for dividing your data into training and testing (i.e., are you using Stratified 10-fold cross validation? Shuffle splits? Why?). Explain why your chosen method is appropriate or use more than one method as appropriate. Convince me that your cross validation method is a realistic mirroring of how an algorithm would be used in practice. "
   ]
  },
  {
   "cell_type": "code",
   "execution_count": 5,
   "metadata": {
    "collapsed": true
   },
   "outputs": [],
   "source": [
    "from sklearn.model_selection import train_test_split\n",
    "\n",
    "X_train, X_test, y_train, y_test = train_test_split(X, y_ints, test_size=0.2, stratify=y_values, random_state=8)\n",
    "\n",
    "y_train_ohe = keras.utils.to_categorical(y_train, num_classes)\n",
    "y_test_ohe = keras.utils.to_categorical(y_test, num_classes)\n"
   ]
  },
  {
   "cell_type": "markdown",
   "metadata": {},
   "source": [
    "## Modeling (50 points total)\n",
    "### [25 points] Investigate at least two different recurrent network architectures (perhaps LSTM and GRU). Adjust hyper-parameters of the networks as needed to improve generalization performance. "
   ]
  },
  {
   "cell_type": "code",
   "execution_count": 6,
   "metadata": {
    "collapsed": true
   },
   "outputs": [],
   "source": [
    "from keras.layers import Embedding\n",
    "\n",
    "embedding_layer = Embedding(len(word_index) + 1,\n",
    "                            embed_size,\n",
    "                            weights=[embedding_matrix],\n",
    "                            input_length=padding,\n",
    "                            trainable=False)"
   ]
  },
  {
   "cell_type": "code",
   "execution_count": 7,
   "metadata": {},
   "outputs": [
    {
     "name": "stdout",
     "output_type": "stream",
     "text": [
      "_________________________________________________________________\n",
      "Layer (type)                 Output Shape              Param #   \n",
      "=================================================================\n",
      "embedding_1 (Embedding)      (None, 100, 100)          1966100   \n",
      "_________________________________________________________________\n",
      "lstm_1 (LSTM)                (None, 128)               117248    \n",
      "_________________________________________________________________\n",
      "dense_1 (Dense)              (None, 65)                8385      \n",
      "=================================================================\n",
      "Total params: 2,091,733\n",
      "Trainable params: 125,633\n",
      "Non-trainable params: 1,966,100\n",
      "_________________________________________________________________\n",
      "None\n",
      "Wall time: 561 ms\n"
     ]
    }
   ],
   "source": [
    "%%time\n",
    "from keras.models import Sequential\n",
    "from keras.layers import Dense\n",
    "from keras.layers import LSTM\n",
    "\n",
    "lstm_rnn = Sequential()\n",
    "lstm_rnn.add(embedding_layer)\n",
    "lstm_rnn.add(LSTM(128, dropout=.2, recurrent_dropout=.2))\n",
    "lstm_rnn.add(Dense(num_classes, activation='sigmoid'))\n",
    "\n",
    "lstm_rnn.compile(loss='categorical_crossentropy', \n",
    "              optimizer='rmsprop', \n",
    "              metrics=['accuracy'])\n",
    "print(lstm_rnn.summary())"
   ]
  },
  {
   "cell_type": "code",
   "execution_count": 8,
   "metadata": {},
   "outputs": [
    {
     "name": "stdout",
     "output_type": "stream",
     "text": [
      "Train on 37396 samples, validate on 9349 samples\n",
      "Epoch 1/10\n",
      "37396/37396 [==============================] - 115s - loss: 3.0084 - acc: 0.2085 - val_loss: 2.9390 - val_acc: 0.2091\n",
      "Epoch 2/10\n",
      "37396/37396 [==============================] - 117s - loss: 2.9028 - acc: 0.2191 - val_loss: 2.8688 - val_acc: 0.2225\n",
      "Epoch 3/10\n",
      "37396/37396 [==============================] - 119s - loss: 2.8311 - acc: 0.2334 - val_loss: 2.8031 - val_acc: 0.2442\n",
      "Epoch 4/10\n",
      "37396/37396 [==============================] - 118s - loss: 2.7673 - acc: 0.2467 - val_loss: 2.7721 - val_acc: 0.2547\n",
      "Epoch 5/10\n",
      "37396/37396 [==============================] - 120s - loss: 2.7110 - acc: 0.2615 - val_loss: 2.7224 - val_acc: 0.2643\n",
      "Epoch 6/10\n",
      "37396/37396 [==============================] - 120s - loss: 2.6607 - acc: 0.2752 - val_loss: 2.6809 - val_acc: 0.2736\n",
      "Epoch 7/10\n",
      "37396/37396 [==============================] - 127s - loss: 2.6187 - acc: 0.2859 - val_loss: 2.6430 - val_acc: 0.2831\n",
      "Epoch 8/10\n",
      "37396/37396 [==============================] - 123s - loss: 2.5816 - acc: 0.2959 - val_loss: 2.6210 - val_acc: 0.2919\n",
      "Epoch 9/10\n",
      "37396/37396 [==============================] - 124s - loss: 2.5509 - acc: 0.3012 - val_loss: 2.6015 - val_acc: 0.2908\n",
      "Epoch 10/10\n",
      "37396/37396 [==============================] - 124s - loss: 2.5232 - acc: 0.3085 - val_loss: 2.5950 - val_acc: 0.2980\n"
     ]
    },
    {
     "data": {
      "text/plain": [
       "<keras.callbacks.History at 0x2a3fdee0fd0>"
      ]
     },
     "execution_count": 8,
     "metadata": {},
     "output_type": "execute_result"
    }
   ],
   "source": [
    "lstm_rnn.fit(X_train, y_train_ohe, validation_data=(X_test, y_test_ohe), epochs=10, batch_size=64)"
   ]
  },
  {
   "cell_type": "code",
   "execution_count": 9,
   "metadata": {},
   "outputs": [
    {
     "name": "stdout",
     "output_type": "stream",
     "text": [
      "_________________________________________________________________\n",
      "Layer (type)                 Output Shape              Param #   \n",
      "=================================================================\n",
      "embedding_1 (Embedding)      (None, 100, 100)          1966100   \n",
      "_________________________________________________________________\n",
      "gru_1 (GRU)                  (None, 128)               87936     \n",
      "_________________________________________________________________\n",
      "dense_2 (Dense)              (None, 65)                8385      \n",
      "=================================================================\n",
      "Total params: 2,062,421\n",
      "Trainable params: 96,321\n",
      "Non-trainable params: 1,966,100\n",
      "_________________________________________________________________\n",
      "None\n"
     ]
    }
   ],
   "source": [
    "from keras.layers import GRU\n",
    "\n",
    "gru_rnn = Sequential()\n",
    "gru_rnn.add(embedding_layer)\n",
    "gru_rnn.add(GRU(128, dropout=.2, recurrent_dropout=.2))\n",
    "gru_rnn.add(Dense(num_classes, activation='sigmoid'))\n",
    "\n",
    "gru_rnn.compile(loss='categorical_crossentropy', \n",
    "              optimizer='rmsprop', \n",
    "              metrics=['accuracy'])\n",
    "print(gru_rnn.summary())"
   ]
  },
  {
   "cell_type": "code",
   "execution_count": 10,
   "metadata": {},
   "outputs": [
    {
     "name": "stdout",
     "output_type": "stream",
     "text": [
      "Train on 37396 samples, validate on 9349 samples\n",
      "Epoch 1/10\n",
      "37396/37396 [==============================] - 98s - loss: 3.0083 - acc: 0.2013 - val_loss: 2.9217 - val_acc: 0.2091\n",
      "Epoch 2/10\n",
      "37396/37396 [==============================] - 97s - loss: 2.8688 - acc: 0.2160 - val_loss: 2.8219 - val_acc: 0.2290\n",
      "Epoch 3/10\n",
      "37396/37396 [==============================] - 99s - loss: 2.7716 - acc: 0.2432 - val_loss: 2.7291 - val_acc: 0.2629\n",
      "Epoch 4/10\n",
      "37396/37396 [==============================] - 98s - loss: 2.6866 - acc: 0.2679 - val_loss: 2.6740 - val_acc: 0.2804\n",
      "Epoch 5/10\n",
      "37396/37396 [==============================] - 98s - loss: 2.6257 - acc: 0.2822 - val_loss: 2.6297 - val_acc: 0.2882\n",
      "Epoch 6/10\n",
      "37396/37396 [==============================] - 98s - loss: 2.5800 - acc: 0.2924 - val_loss: 2.5911 - val_acc: 0.2951\n",
      "Epoch 7/10\n",
      "37396/37396 [==============================] - 101s - loss: 2.5358 - acc: 0.3031 - val_loss: 2.5819 - val_acc: 0.2924\n",
      "Epoch 8/10\n",
      "37396/37396 [==============================] - 99s - loss: 2.5023 - acc: 0.3108 - val_loss: 2.5588 - val_acc: 0.3107\n",
      "Epoch 9/10\n",
      "37396/37396 [==============================] - 100s - loss: 2.4734 - acc: 0.3135 - val_loss: 2.5417 - val_acc: 0.3020\n",
      "Epoch 10/10\n",
      "37396/37396 [==============================] - 100s - loss: 2.4433 - acc: 0.3206 - val_loss: 2.5333 - val_acc: 0.3075\n"
     ]
    },
    {
     "data": {
      "text/plain": [
       "<keras.callbacks.History at 0x2a380a55f98>"
      ]
     },
     "execution_count": 10,
     "metadata": {},
     "output_type": "execute_result"
    }
   ],
   "source": [
    "gru_rnn.fit(X_train, y_train_ohe, validation_data=(X_test, y_test_ohe), epochs=10, batch_size=64)"
   ]
  },
  {
   "cell_type": "code",
   "execution_count": 11,
   "metadata": {},
   "outputs": [],
   "source": [
    "from sklearn.metrics import confusion_matrix\n",
    "\n",
    "lstm_yhat_probs = lstm_rnn.predict(X_test)\n",
    "lstm_yhat = np.argmax(lstm_yhat_probs, axis=1)\n",
    "\n",
    "gru_yhat_probs = gru_rnn.predict(X_test)\n",
    "gru_yhat = np.argmax(gru_yhat_probs, axis=1)"
   ]
  },
  {
   "cell_type": "code",
   "execution_count": 12,
   "metadata": {},
   "outputs": [],
   "source": [
    "lstm_conf = confusion_matrix(y_test, lstm_yhat)\n",
    "gru_conf = confusion_matrix(y_test, gru_yhat)"
   ]
  },
  {
   "cell_type": "code",
   "execution_count": 13,
   "metadata": {},
   "outputs": [
    {
     "data": {
      "text/plain": [
       "<matplotlib.axes._subplots.AxesSubplot at 0x2a388913668>"
      ]
     },
     "execution_count": 13,
     "metadata": {},
     "output_type": "execute_result"
    },
    {
     "data": {
      "image/png": "[encoded data removed]",
      "text/plain": [
       "<matplotlib.figure.Figure at 0x2a384bfc940>"
      ]
     },
     "metadata": {},
     "output_type": "display_data"
    },
    {
     "data": {
      "image/png": "[encoded data removed]",
      "text/plain": [
       "<matplotlib.figure.Figure at 0x2a3884f28d0>"
      ]
     },
     "metadata": {},
     "output_type": "display_data"
    }
   ],
   "source": [
    "%matplotlib inline\n",
    "import matplotlib.pyplot as plt\n",
    "import seaborn as sns\n",
    "\n",
    "fig, ax = plt.subplots(figsize=(10, 10))\n",
    "plt.title('LSTM Confusion Matrix')\n",
    "sns.heatmap(lstm_conf, ax=ax)\n",
    "\n",
    "fig, ax = plt.subplots(figsize=(10, 10))\n",
    "plt.title('GRU Confusion Matrix')\n",
    "sns.heatmap(gru_conf, ax=ax)"
   ]
  },
  {
   "cell_type": "code",
   "execution_count": 14,
   "metadata": {},
   "outputs": [
    {
     "data": {
      "text/plain": [
       "'Kyle'"
      ]
     },
     "execution_count": 14,
     "metadata": {},
     "output_type": "execute_result"
    }
   ],
   "source": [
    "#For Caleb\n",
    "new_uniques[4]     #Cartman - Pretty Accurate\n",
    "new_uniques[53]    #Stan    - Pretty Accurate\n",
    "new_uniques[22]    #Kyle    - Gets confused for Stan a lot"
   ]
  },
  {
   "cell_type": "code",
   "execution_count": 15,
   "metadata": {},
   "outputs": [
    {
     "data": {
      "text/plain": [
       "'Cartman'"
      ]
     },
     "execution_count": 15,
     "metadata": {},
     "output_type": "execute_result"
    }
   ],
   "source": [
    "def data_prep(words):\n",
    "    tokened = np.array(tokenizer.texts_to_sequences(words))\n",
    "    return pad_sequences(tokened, maxlen=padding)\n",
    "\n",
    "sent = ['Respect my authority']\n",
    "# print(gru_rnn.predict(data_prep(sent)))\n",
    "guess = np.argmax(gru_rnn.predict(data_prep(sent)))\n",
    "new_uniques[guess]"
   ]
  },
  {
   "cell_type": "markdown",
   "metadata": {},
   "source": [
    "## Exceptional Work (10 points total)\n",
    "You have free reign to provide additional analyses.\n",
    "### One idea: Use more than a single chain of LSTMs or GRUs (i.e., use multiple parallel chains). \n",
    "Another Idea: Try to create a RNN for generating novel text. "
   ]
  },
  {
   "cell_type": "code",
   "execution_count": 16,
   "metadata": {},
   "outputs": [
    {
     "name": "stdout",
     "output_type": "stream",
     "text": [
      "_________________________________________________________________\n",
      "Layer (type)                 Output Shape              Param #   \n",
      "=================================================================\n",
      "embedding_1 (Embedding)      (None, 100, 100)          1966100   \n",
      "_________________________________________________________________\n",
      "lstm_2 (LSTM)                (None, 100, 128)          117248    \n",
      "_________________________________________________________________\n",
      "lstm_3 (LSTM)                (None, 128)               131584    \n",
      "_________________________________________________________________\n",
      "dense_3 (Dense)              (None, 65)                8385      \n",
      "=================================================================\n",
      "Total params: 2,223,317\n",
      "Trainable params: 257,217\n",
      "Non-trainable params: 1,966,100\n",
      "_________________________________________________________________\n",
      "None\n"
     ]
    }
   ],
   "source": [
    "\n",
    "lstm_mpc = Sequential()\n",
    "lstm_mpc.add(embedding_layer)\n",
    "lstm_mpc.add(LSTM(128, dropout=.2, recurrent_dropout=.2, return_sequences=True))\n",
    "lstm_mpc.add(LSTM(128, dropout=.2, recurrent_dropout=.2))\n",
    "lstm_mpc.add(Dense(num_classes, activation='sigmoid'))\n",
    "\n",
    "lstm_mpc.compile(loss='categorical_crossentropy', \n",
    "              optimizer='rmsprop', \n",
    "              metrics=['accuracy'])\n",
    "\n",
    "print(lstm_mpc.summary())"
   ]
  },
  {
   "cell_type": "code",
   "execution_count": 17,
   "metadata": {},
   "outputs": [
    {
     "name": "stdout",
     "output_type": "stream",
     "text": [
      "Train on 37396 samples, validate on 9349 samples\n",
      "Epoch 1/3\n",
      "37396/37396 [==============================] - 259s - loss: 3.0407 - acc: 0.2075 - val_loss: 2.9755 - val_acc: 0.2091\n",
      "Epoch 2/3\n",
      "37396/37396 [==============================] - 258s - loss: 2.9534 - acc: 0.2089 - val_loss: 2.9222 - val_acc: 0.2091\n",
      "Epoch 3/3\n",
      "37396/37396 [==============================] - 258s - loss: 2.9048 - acc: 0.2180 - val_loss: 2.8898 - val_acc: 0.2148\n"
     ]
    },
    {
     "data": {
      "text/plain": [
       "<keras.callbacks.History at 0x2a38a8fdf98>"
      ]
     },
     "execution_count": 17,
     "metadata": {},
     "output_type": "execute_result"
    }
   ],
   "source": [
    "lstm_mpc.fit(X_train, y_train_ohe, validation_data=(X_test, y_test_ohe), epochs=3, batch_size=128)"
   ]
  },
  {
   "cell_type": "code",
   "execution_count": null,
   "metadata": {
    "collapsed": true
   },
   "outputs": [],
   "source": []
  }
 ],
 "metadata": {
  "anaconda-cloud": {},
  "kernelspec": {
   "display_name": "Python [conda env:tensor]",
   "language": "python",
   "name": "conda-env-tensor-py"
  },
  "language_info": {
   "codemirror_mode": {
    "name": "ipython",
    "version": 3
   },
   "file_extension": ".py",
   "mimetype": "text/x-python",
   "name": "python",
   "nbconvert_exporter": "python",
   "pygments_lexer": "ipython3",
   "version": "3.5.3"
  }
 },
 "nbformat": 4,
 "nbformat_minor": 2
}
