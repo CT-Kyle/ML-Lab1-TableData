{
 "cells": [
  {
   "cell_type": "markdown",
   "metadata": {
    "collapsed": true
   },
   "source": [
    "# Convolutional Neural Networks for Dogs and Cats"
   ]
  },
  {
   "cell_type": "markdown",
   "metadata": {},
   "source": [
    "## Preparation (40 points total)\n",
    "#### [10 points] Define and prepare your class variables. Use proper variable representations (int, float, one-hot, etc.). Use pre-processing methods (as needed) for dimensionality reduction, scaling, etc. Remove variables that are not needed/useful for the analysis. Describe the final dataset that is used for classification/regression (include a description of any newly formed variables you created).  "
   ]
  },
  {
   "cell_type": "code",
   "execution_count": 34,
   "metadata": {
    "scrolled": true
   },
   "outputs": [
    {
     "name": "stdout",
     "output_type": "stream",
     "text": [
      "Wall time: 1min 8s\n"
     ]
    }
   ],
   "source": [
    "%%time\n",
    "from PIL import Image\n",
    "import pandas as pd\n",
    "import numpy as np\n",
    "\n",
    "image_size = (20, 20)\n",
    "X = []\n",
    "y = []\n",
    "label = [0, 1] #cat == 0, dog == 1\n",
    "for i in range(0, 8000):\n",
    "    image = Image.open('train/cat.' + str(i) +'.jpg')\n",
    "    image = image.resize(image_size)\n",
    "    image = image.convert('L')\n",
    "    image_array = np.array(image).reshape(400,)\n",
    "    X.append(image_array)\n",
    "    y.append(0)\n",
    "    \n",
    "for i in range(0, 8000):\n",
    "    image = Image.open('train/dog.' + str(i) +'.jpg')\n",
    "    image = image.resize(image_size)\n",
    "    image = image.convert('L')\n",
    "    image_array = np.array(image).reshape(400,)\n",
    "    X.append(image_array)\n",
    "    y.append(1)\n",
    "\n",
    "X = np.asarray(X)\n",
    "y = np.asarray(y)"
   ]
  },
  {
   "cell_type": "code",
   "execution_count": 35,
   "metadata": {},
   "outputs": [
    {
     "name": "stdout",
     "output_type": "stream",
     "text": [
      "(16000, 400)\n",
      "(16000,)\n"
     ]
    }
   ],
   "source": [
    "print(X.shape)\n",
    "print(y.shape)\n",
    "\n",
    "X = X.astype(np.float32) / 255.0 # normalize"
   ]
  },
  {
   "cell_type": "markdown",
   "metadata": {},
   "source": [
    "#### [15 points] Choose and explain what metric(s) you will use to evaluate your algorithm’s performance. You should give a detailed argument for why this (these) metric(s) are appropriate on your data. That is, why is the metric appropriate for the task (e.g., in terms of the business case for the task). Please note: rarely is accuracy the best evaluation metric to use. Think deeply about an appropriate measure of performance."
   ]
  },
  {
   "cell_type": "code",
   "execution_count": null,
   "metadata": {
    "collapsed": true
   },
   "outputs": [],
   "source": []
  },
  {
   "cell_type": "markdown",
   "metadata": {},
   "source": [
    "#### [15 points] Choose the method you will use for dividing your data into training and testing (i.e., are you using Stratified 10-fold cross validation? Shuffle splits? Why?). Explain why your chosen method is appropriate or use more than one method as appropriate. Convince me that your cross validation method is a realistic mirroring of how an algorithm would be used in practice."
   ]
  },
  {
   "cell_type": "code",
   "execution_count": 47,
   "metadata": {},
   "outputs": [],
   "source": [
    "import keras\n",
    "from keras.models import Sequential\n",
    "from keras.layers import Reshape\n",
    "from keras.layers import Dense, Dropout, Activation, Flatten\n",
    "from keras.layers import Conv2D, MaxPooling2D\n",
    "from sklearn.model_selection import train_test_split\n",
    "\n",
    "X_train, X_test, y_train, y_test = train_test_split(X, y, test_size=.2)\n",
    "\n",
    "y_ohe_train = keras.utils.to_categorical(y_train, 2)\n"
   ]
  },
  {
   "cell_type": "markdown",
   "metadata": {},
   "source": [
    "## Modeling (50 points total)\n",
    "#### [20 points] Create a convolutional neural network to use on your data using tensorflow. "
   ]
  },
  {
   "cell_type": "code",
   "execution_count": 52,
   "metadata": {
    "scrolled": true
   },
   "outputs": [
    {
     "name": "stdout",
     "output_type": "stream",
     "text": [
      "Wall time: 50.8 s\n"
     ]
    }
   ],
   "source": [
    "%%time\n",
    "cnn2 = Sequential()\n",
    "cnn2.add(Reshape((1, 20, 20), input_shape=(1, 400)))\n",
    "cnn2.add(Conv2D(filters=16, kernel_size=(2, 2), padding='same'))\n",
    "cnn2.add(Activation('relu'))\n",
    "cnn2.add(MaxPooling2D(pool_size=(2, 2), data_format=\"channels_first\"))\n",
    "\n",
    "\n",
    "cnn2.add(Flatten())\n",
    "cnn2.add(Dense(2))\n",
    "cnn2.add(Activation('softmax'))\n",
    "\n",
    "cnn2.compile(loss='mean_squared_logarithmic_error',\n",
    "            optimizer='adam',\n",
    "            metrics=['accuracy'])\n",
    "\n",
    "cnn2.fit(np.expand_dims(X_train, axis=1), y_ohe_train, batch_size=32, epochs=50, shuffle=True, verbose=0)"
   ]
  },
  {
   "cell_type": "code",
   "execution_count": 53,
   "metadata": {},
   "outputs": [
    {
     "data": {
      "text/plain": [
       "0.65749999999999997"
      ]
     },
     "execution_count": 53,
     "metadata": {},
     "output_type": "execute_result"
    }
   ],
   "source": [
    "from sklearn import metrics as mt\n",
    "\n",
    "yhat2 = np.argmax(cnn2.predict(np.expand_dims(X_test, axis=1)), axis=1)\n",
    "acc2 = mt.accuracy_score(y_test, yhat)\n",
    "acc2"
   ]
  },
  {
   "cell_type": "markdown",
   "metadata": {},
   "source": [
    "#### [20 points] Investigate at least two different deep network architectures. Use the method of cross validation and evaluation metric that you argued for at the beginning of the lab. Visualize the results of the CNNs. "
   ]
  },
  {
   "cell_type": "code",
   "execution_count": 64,
   "metadata": {
    "scrolled": true
   },
   "outputs": [
    {
     "name": "stdout",
     "output_type": "stream",
     "text": [
      "Epoch 1/75\n",
      "12800/12800 [==============================] - 8s - loss: 0.1229 - acc: 0.5307     \n",
      "Epoch 2/75\n",
      "12800/12800 [==============================] - 7s - loss: 0.1194 - acc: 0.5809     \n",
      "Epoch 3/75\n",
      "12800/12800 [==============================] - 7s - loss: 0.1170 - acc: 0.5973     \n",
      "Epoch 4/75\n",
      "12800/12800 [==============================] - 7s - loss: 0.1159 - acc: 0.6019     \n",
      "Epoch 5/75\n",
      "12800/12800 [==============================] - 7s - loss: 0.1148 - acc: 0.6116     \n",
      "Epoch 6/75\n",
      "12800/12800 [==============================] - 7s - loss: 0.1141 - acc: 0.6138     \n",
      "Epoch 7/75\n",
      "12800/12800 [==============================] - 7s - loss: 0.1134 - acc: 0.6205     \n",
      "Epoch 8/75\n",
      "12800/12800 [==============================] - 7s - loss: 0.1129 - acc: 0.6253     \n",
      "Epoch 9/75\n",
      "12800/12800 [==============================] - 7s - loss: 0.1115 - acc: 0.6308     \n",
      "Epoch 10/75\n",
      "12800/12800 [==============================] - 7s - loss: 0.1115 - acc: 0.6313     \n",
      "Epoch 11/75\n",
      "12800/12800 [==============================] - 7s - loss: 0.1112 - acc: 0.6315     \n",
      "Epoch 12/75\n",
      "12800/12800 [==============================] - 7s - loss: 0.1104 - acc: 0.6366     \n",
      "Epoch 13/75\n",
      "12800/12800 [==============================] - 7s - loss: 0.1106 - acc: 0.6336     \n",
      "Epoch 14/75\n",
      "12800/12800 [==============================] - 8s - loss: 0.1095 - acc: 0.6389     \n",
      "Epoch 15/75\n",
      "12800/12800 [==============================] - 8s - loss: 0.1087 - acc: 0.6438     \n",
      "Epoch 16/75\n",
      "12800/12800 [==============================] - 8s - loss: 0.1086 - acc: 0.6422     \n",
      "Epoch 17/75\n",
      "12800/12800 [==============================] - 8s - loss: 0.1082 - acc: 0.6450     \n",
      "Epoch 18/75\n",
      "12800/12800 [==============================] - 7s - loss: 0.1074 - acc: 0.6484     \n",
      "Epoch 19/75\n",
      "12800/12800 [==============================] - 7s - loss: 0.1074 - acc: 0.6508     \n",
      "Epoch 20/75\n",
      "12800/12800 [==============================] - 7s - loss: 0.1064 - acc: 0.6597     \n",
      "Epoch 21/75\n",
      "12800/12800 [==============================] - 7s - loss: 0.1064 - acc: 0.6545     \n",
      "Epoch 22/75\n",
      "12800/12800 [==============================] - 7s - loss: 0.1059 - acc: 0.6566     \n",
      "Epoch 23/75\n",
      "12800/12800 [==============================] - 7s - loss: 0.1051 - acc: 0.6634     \n",
      "Epoch 24/75\n",
      "12800/12800 [==============================] - 7s - loss: 0.1048 - acc: 0.6645     \n",
      "Epoch 25/75\n",
      "12800/12800 [==============================] - 7s - loss: 0.1039 - acc: 0.6645     \n",
      "Epoch 26/75\n",
      "12800/12800 [==============================] - 7s - loss: 0.1042 - acc: 0.6649     \n",
      "Epoch 27/75\n",
      "12800/12800 [==============================] - 7s - loss: 0.1044 - acc: 0.6677     \n",
      "Epoch 28/75\n",
      "12800/12800 [==============================] - 8s - loss: 0.1037 - acc: 0.6659     \n",
      "Epoch 29/75\n",
      "12800/12800 [==============================] - 8s - loss: 0.1031 - acc: 0.6741     \n",
      "Epoch 30/75\n",
      "12800/12800 [==============================] - 8s - loss: 0.1031 - acc: 0.6709     \n",
      "Epoch 31/75\n",
      "12800/12800 [==============================] - 8s - loss: 0.1026 - acc: 0.6717     \n",
      "Epoch 32/75\n",
      "12800/12800 [==============================] - 8s - loss: 0.1020 - acc: 0.6783     \n",
      "Epoch 33/75\n",
      "12800/12800 [==============================] - 8s - loss: 0.1023 - acc: 0.6752     \n",
      "Epoch 34/75\n",
      "12800/12800 [==============================] - 8s - loss: 0.1012 - acc: 0.6770     \n",
      "Epoch 35/75\n",
      "12800/12800 [==============================] - 8s - loss: 0.0999 - acc: 0.6849     \n",
      "Epoch 36/75\n",
      "12800/12800 [==============================] - 8s - loss: 0.1006 - acc: 0.6836     \n",
      "Epoch 37/75\n",
      "12800/12800 [==============================] - 8s - loss: 0.1002 - acc: 0.6791     \n",
      "Epoch 38/75\n",
      "12800/12800 [==============================] - 8s - loss: 0.1000 - acc: 0.6797     \n",
      "Epoch 39/75\n",
      "12800/12800 [==============================] - 8s - loss: 0.0993 - acc: 0.6850     \n",
      "Epoch 40/75\n",
      "12800/12800 [==============================] - 8s - loss: 0.1004 - acc: 0.6809     \n",
      "Epoch 41/75\n",
      "12800/12800 [==============================] - 8s - loss: 0.0992 - acc: 0.6859     \n",
      "Epoch 42/75\n",
      "12800/12800 [==============================] - 8s - loss: 0.0993 - acc: 0.6889     \n",
      "Epoch 43/75\n",
      "12800/12800 [==============================] - 8s - loss: 0.0989 - acc: 0.6851     \n",
      "Epoch 44/75\n",
      "12800/12800 [==============================] - 8s - loss: 0.0986 - acc: 0.6927     \n",
      "Epoch 45/75\n",
      "12800/12800 [==============================] - 8s - loss: 0.0991 - acc: 0.6907     \n",
      "Epoch 46/75\n",
      "12800/12800 [==============================] - 8s - loss: 0.0979 - acc: 0.6898     \n",
      "Epoch 47/75\n",
      "12800/12800 [==============================] - 8s - loss: 0.0982 - acc: 0.6854     \n",
      "Epoch 48/75\n",
      "12800/12800 [==============================] - 8s - loss: 0.0970 - acc: 0.6987     \n",
      "Epoch 49/75\n",
      "12800/12800 [==============================] - 8s - loss: 0.0982 - acc: 0.6923     \n",
      "Epoch 50/75\n",
      "12800/12800 [==============================] - 8s - loss: 0.0972 - acc: 0.6963     \n",
      "Epoch 51/75\n",
      "12800/12800 [==============================] - 8s - loss: 0.0968 - acc: 0.6939     \n",
      "Epoch 52/75\n",
      "12800/12800 [==============================] - 8s - loss: 0.0965 - acc: 0.6995     \n",
      "Epoch 53/75\n",
      "12800/12800 [==============================] - 8s - loss: 0.0960 - acc: 0.7027     \n",
      "Epoch 54/75\n",
      "12800/12800 [==============================] - 8s - loss: 0.0962 - acc: 0.6991     \n",
      "Epoch 55/75\n",
      "12800/12800 [==============================] - 8s - loss: 0.0960 - acc: 0.7010     \n",
      "Epoch 56/75\n",
      "12800/12800 [==============================] - 8s - loss: 0.0970 - acc: 0.7009     \n",
      "Epoch 57/75\n",
      "12800/12800 [==============================] - 8s - loss: 0.0958 - acc: 0.7004     \n",
      "Epoch 58/75\n",
      "12800/12800 [==============================] - 8s - loss: 0.0957 - acc: 0.7026     \n",
      "Epoch 59/75\n",
      "12800/12800 [==============================] - 8s - loss: 0.0960 - acc: 0.7032     \n",
      "Epoch 60/75\n",
      "12800/12800 [==============================] - 8s - loss: 0.0961 - acc: 0.7016     \n",
      "Epoch 61/75\n",
      "12800/12800 [==============================] - 8s - loss: 0.0937 - acc: 0.7075     \n",
      "Epoch 62/75\n",
      "12800/12800 [==============================] - 8s - loss: 0.0944 - acc: 0.7048     \n",
      "Epoch 63/75\n",
      "12800/12800 [==============================] - 8s - loss: 0.0948 - acc: 0.7090     \n",
      "Epoch 64/75\n",
      "12800/12800 [==============================] - 8s - loss: 0.0943 - acc: 0.7074     \n",
      "Epoch 65/75\n",
      "12800/12800 [==============================] - 8s - loss: 0.0940 - acc: 0.7111     \n",
      "Epoch 66/75\n",
      "12800/12800 [==============================] - 8s - loss: 0.0947 - acc: 0.7043     \n",
      "Epoch 67/75\n",
      "12800/12800 [==============================] - 8s - loss: 0.0938 - acc: 0.7105     \n",
      "Epoch 68/75\n",
      "12800/12800 [==============================] - 8s - loss: 0.0940 - acc: 0.7098     \n",
      "Epoch 69/75\n",
      "12800/12800 [==============================] - 8s - loss: 0.0946 - acc: 0.7069     \n",
      "Epoch 70/75\n",
      "12800/12800 [==============================] - 8s - loss: 0.0930 - acc: 0.7163     \n",
      "Epoch 71/75\n",
      "12800/12800 [==============================] - 8s - loss: 0.0937 - acc: 0.7112     \n",
      "Epoch 72/75\n",
      "12800/12800 [==============================] - 8s - loss: 0.0927 - acc: 0.7162     \n",
      "Epoch 73/75\n",
      "12800/12800 [==============================] - 8s - loss: 0.0936 - acc: 0.7136     \n",
      "Epoch 74/75\n",
      "12800/12800 [==============================] - 8s - loss: 0.0919 - acc: 0.7195     \n",
      "Epoch 75/75\n",
      "12800/12800 [==============================] - 8s - loss: 0.0922 - acc: 0.7163     \n",
      "Wall time: 10min 3s\n"
     ]
    }
   ],
   "source": [
    "%%time\n",
    "cnn = Sequential()\n",
    "\n",
    "cnn.add(Reshape((1, 20, 20), input_shape=(1, 400)))\n",
    "cnn.add(Conv2D(filters=32, kernel_size=(3, 3), padding='same'))\n",
    "cnn.add(Activation('relu'))\n",
    "cnn.add(MaxPooling2D(pool_size=(2, 2), data_format=\"channels_first\"))\n",
    "\n",
    "cnn.add(Dropout(.2))\n",
    "cnn.add(Conv2D(filters=64, kernel_size=(3, 3), padding='same'))\n",
    "cnn.add(Activation('relu'))\n",
    "cnn.add(Dropout(.2))\n",
    "cnn.add(Conv2D(filters=64, kernel_size=(3, 3), padding='same'))\n",
    "cnn.add(Activation('relu'))\n",
    "cnn.add(MaxPooling2D(pool_size=(2, 2), data_format=\"channels_first\"))\n",
    "\n",
    "cnn.add(Dropout(.2))\n",
    "cnn.add(Conv2D(filters=128, kernel_size=(3, 3), padding='same'))\n",
    "cnn.add(Activation('relu'))\n",
    "cnn.add(Dropout(.2))\n",
    "cnn.add(Conv2D(filters=256, kernel_size=(3, 3), padding='same'))\n",
    "cnn.add(Activation('relu'))\n",
    "cnn.add(MaxPooling2D(pool_size=(2, 2), data_format=\"channels_first\"))\n",
    "\n",
    "\n",
    "cnn.add(Flatten())\n",
    "cnn.add(Dense(2))\n",
    "cnn.add(Activation('softmax'))\n",
    "\n",
    "cnn.compile(loss='mean_squared_logarithmic_error',\n",
    "            optimizer='adam',\n",
    "            metrics=['accuracy'])\n",
    "\n",
    "cnn.fit(np.expand_dims(X_train, axis=1), y_ohe_train, batch_size=32, epochs=75, shuffle=True, verbose=1)"
   ]
  },
  {
   "cell_type": "code",
   "execution_count": 65,
   "metadata": {},
   "outputs": [
    {
     "data": {
      "text/plain": [
       "0.65874999999999995"
      ]
     },
     "execution_count": 65,
     "metadata": {},
     "output_type": "execute_result"
    }
   ],
   "source": [
    "yhat = np.argmax(cnn.predict(np.expand_dims(X_test, axis=1)), axis=1)\n",
    "acc = mt.accuracy_score(y_test, yhat)\n",
    "acc"
   ]
  },
  {
   "cell_type": "markdown",
   "metadata": {},
   "source": [
    "#### [10 points] Compare the performance of your convolutional network to a standard multi-layer perceptron (MLP) using the receiver operating characteristic and area under the curve."
   ]
  },
  {
   "cell_type": "code",
   "execution_count": null,
   "metadata": {
    "collapsed": true
   },
   "outputs": [],
   "source": []
  },
  {
   "cell_type": "markdown",
   "metadata": {},
   "source": [
    "## Exceptional Work (10 points total)\n",
    "#### One idea: Visualize the convolutional filters chosen by your CNN. Try to interpret some of their meanings."
   ]
  },
  {
   "cell_type": "code",
   "execution_count": null,
   "metadata": {
    "collapsed": true
   },
   "outputs": [],
   "source": []
  }
 ],
 "metadata": {
  "anaconda-cloud": {},
  "kernelspec": {
   "display_name": "Python [default]",
   "language": "python",
   "name": "python3"
  },
  "language_info": {
   "codemirror_mode": {
    "name": "ipython",
    "version": 3
   },
   "file_extension": ".py",
   "mimetype": "text/x-python",
   "name": "python",
   "nbconvert_exporter": "python",
   "pygments_lexer": "ipython3",
   "version": "3.5.3"
  }
 },
 "nbformat": 4,
 "nbformat_minor": 2
}
