{
 "cells": [
  {
   "cell_type": "markdown",
   "metadata": {
    "collapsed": true
   },
   "source": [
    "# Convolutional Neural Networks for Dogs and Cats"
   ]
  },
  {
   "cell_type": "markdown",
   "metadata": {},
   "source": [
    "## Preparation (40 points total)\n",
    "#### [10 points] Define and prepare your class variables. Use proper variable representations (int, float, one-hot, etc.). Use pre-processing methods (as needed) for dimensionality reduction, scaling, etc. Remove variables that are not needed/useful for the analysis. Describe the final dataset that is used for classification/regression (include a description of any newly formed variables you created).  "
   ]
  },
  {
   "cell_type": "code",
   "execution_count": 2,
   "metadata": {
    "scrolled": true
   },
   "outputs": [
    {
     "name": "stdout",
     "output_type": "stream",
     "text": [
      "Wall time: 55 s\n"
     ]
    }
   ],
   "source": [
    "%%time\n",
    "from PIL import Image\n",
    "import pandas as pd\n",
    "import numpy as np\n",
    "\n",
    "image_size = (40, 40)\n",
    "total_image_size = image_size[0]**2\n",
    "image_size3 = (1, 40, 40)\n",
    "X = []\n",
    "y = []\n",
    "label = [0, 1] #cat == 0, dog == 1\n",
    "for i in range(0, 12000):\n",
    "    image = Image.open('train/cat.' + str(i) +'.jpg')\n",
    "    image = image.resize(image_size)\n",
    "    image = image.convert('L')\n",
    "    image_array = np.array(image).reshape(total_image_size,)\n",
    "    X.append(image_array)\n",
    "    y.append(0)\n",
    "    \n",
    "for i in range(0, 12000):\n",
    "    image = Image.open('train/dog.' + str(i) +'.jpg')\n",
    "    image = image.resize(image_size)\n",
    "    image = image.convert('L')\n",
    "    image_array = np.array(image).reshape(total_image_size,)\n",
    "    X.append(image_array)\n",
    "    y.append(1)\n",
    "\n",
    "X = np.asarray(X)\n",
    "y = np.asarray(y)"
   ]
  },
  {
   "cell_type": "code",
   "execution_count": 3,
   "metadata": {},
   "outputs": [
    {
     "name": "stdout",
     "output_type": "stream",
     "text": [
      "(24000, 1600)\n",
      "(24000,)\n"
     ]
    }
   ],
   "source": [
    "print(X.shape)\n",
    "print(y.shape)\n",
    "\n",
    "X = X.astype(np.float32) / 255.0 # normalize"
   ]
  },
  {
   "cell_type": "markdown",
   "metadata": {},
   "source": [
    "#### [15 points] Choose and explain what metric(s) you will use to evaluate your algorithm’s performance. You should give a detailed argument for why this (these) metric(s) are appropriate on your data. That is, why is the metric appropriate for the task (e.g., in terms of the business case for the task). Please note: rarely is accuracy the best evaluation metric to use. Think deeply about an appropriate measure of performance."
   ]
  },
  {
   "cell_type": "code",
   "execution_count": null,
   "metadata": {
    "collapsed": true
   },
   "outputs": [],
   "source": []
  },
  {
   "cell_type": "markdown",
   "metadata": {},
   "source": [
    "#### [15 points] Choose the method you will use for dividing your data into training and testing (i.e., are you using Stratified 10-fold cross validation? Shuffle splits? Why?). Explain why your chosen method is appropriate or use more than one method as appropriate. Convince me that your cross validation method is a realistic mirroring of how an algorithm would be used in practice."
   ]
  },
  {
   "cell_type": "code",
   "execution_count": 46,
   "metadata": {
    "collapsed": true
   },
   "outputs": [],
   "source": [
    "import keras\n",
    "from keras.models import Sequential\n",
    "from keras.layers import Reshape\n",
    "from keras.layers import Dense, Dropout, Activation, Flatten\n",
    "from keras.layers import Conv2D, MaxPooling2D\n",
    "from sklearn.model_selection import train_test_split\n",
    "\n",
    "X_train, X_test, y_train, y_test = train_test_split(X, y, test_size=.2)\n",
    "\n",
    "y_ohe_train = keras.utils.to_categorical(y_train, 2)\n",
    "y_ohe_test = keras.utils.to_categorical(y_test, 2)\n"
   ]
  },
  {
   "cell_type": "markdown",
   "metadata": {},
   "source": [
    "## Modeling (50 points total)\n",
    "#### [20 points] Create a convolutional neural network to use on your data using tensorflow. "
   ]
  },
  {
   "cell_type": "code",
   "execution_count": 5,
   "metadata": {
    "scrolled": true
   },
   "outputs": [
    {
     "name": "stdout",
     "output_type": "stream",
     "text": [
      "Wall time: 1min 42s\n"
     ]
    }
   ],
   "source": [
    "%%time\n",
    "cnn2 = Sequential()\n",
    "cnn2.add(Reshape(image_size3, input_shape=(1, total_image_size)))\n",
    "cnn2.add(Conv2D(filters=16, kernel_size=(2, 2), padding='same'))\n",
    "cnn2.add(Activation('relu'))\n",
    "cnn2.add(MaxPooling2D(pool_size=(2, 2), data_format=\"channels_first\"))\n",
    "\n",
    "\n",
    "cnn2.add(Flatten())\n",
    "cnn2.add(Dense(2))\n",
    "cnn2.add(Activation('softmax'))\n",
    "\n",
    "cnn2.compile(loss='mean_squared_logarithmic_error',\n",
    "            optimizer='adam',\n",
    "            metrics=['accuracy'])\n",
    "\n",
    "cnn2.fit(np.expand_dims(X_train, axis=1), y_ohe_train, batch_size=32, epochs=50, shuffle=True, verbose=0)"
   ]
  },
  {
   "cell_type": "code",
   "execution_count": null,
   "metadata": {
    "collapsed": true
   },
   "outputs": [],
   "source": []
  },
  {
   "cell_type": "code",
   "execution_count": 6,
   "metadata": {},
   "outputs": [
    {
     "name": "stdout",
     "output_type": "stream",
     "text": [
      "(4800,)\n"
     ]
    },
    {
     "data": {
      "text/plain": [
       "0.65937500000000004"
      ]
     },
     "execution_count": 6,
     "metadata": {},
     "output_type": "execute_result"
    }
   ],
   "source": [
    "from sklearn import metrics as mt\n",
    "\n",
    "yhat2 = np.argmax(cnn2.predict(np.expand_dims(X_test, axis=1)), axis=1)\n",
    "print(yhat2.shape)\n",
    "acc2 = mt.accuracy_score(y_test, yhat2)\n",
    "acc2"
   ]
  },
  {
   "cell_type": "markdown",
   "metadata": {},
   "source": [
    "#### [20 points] Investigate at least two different deep network architectures. Use the method of cross validation and evaluation metric that you argued for at the beginning of the lab. Visualize the results of the CNNs. "
   ]
  },
  {
   "cell_type": "code",
   "execution_count": 8,
   "metadata": {
    "scrolled": true
   },
   "outputs": [
    {
     "name": "stdout",
     "output_type": "stream",
     "text": [
      "Epoch 1/50\n",
      "19200/19200 [==============================] - 19s - loss: 0.1216 - acc: 0.5450    \n",
      "Epoch 2/50\n",
      "19200/19200 [==============================] - 18s - loss: 0.1178 - acc: 0.5886    \n",
      "Epoch 3/50\n",
      "19200/19200 [==============================] - 19s - loss: 0.1159 - acc: 0.6066    \n",
      "Epoch 4/50\n",
      "19200/19200 [==============================] - 18s - loss: 0.1146 - acc: 0.6119    \n",
      "Epoch 5/50\n",
      "19200/19200 [==============================] - 18s - loss: 0.1131 - acc: 0.6195    \n",
      "Epoch 6/50\n",
      "19200/19200 [==============================] - 18s - loss: 0.1121 - acc: 0.6254    \n",
      "Epoch 7/50\n",
      "19200/19200 [==============================] - 19s - loss: 0.1117 - acc: 0.6276    \n",
      "Epoch 8/50\n",
      "19200/19200 [==============================] - 18s - loss: 0.1117 - acc: 0.6294    \n",
      "Epoch 9/50\n",
      "19200/19200 [==============================] - 18s - loss: 0.1103 - acc: 0.6359    \n",
      "Epoch 10/50\n",
      "19200/19200 [==============================] - 18s - loss: 0.1101 - acc: 0.6356    \n",
      "Epoch 11/50\n",
      "19200/19200 [==============================] - 19s - loss: 0.1094 - acc: 0.6390    \n",
      "Epoch 12/50\n",
      "19200/19200 [==============================] - 18s - loss: 0.1091 - acc: 0.6374    \n",
      "Epoch 13/50\n",
      "19200/19200 [==============================] - 18s - loss: 0.1083 - acc: 0.6443    \n",
      "Epoch 14/50\n",
      "19200/19200 [==============================] - 18s - loss: 0.1069 - acc: 0.6503    \n",
      "Epoch 15/50\n",
      "19200/19200 [==============================] - 18s - loss: 0.1072 - acc: 0.6504    \n",
      "Epoch 16/50\n",
      "19200/19200 [==============================] - 18s - loss: 0.1072 - acc: 0.6536    \n",
      "Epoch 17/50\n",
      "19200/19200 [==============================] - 19s - loss: 0.1065 - acc: 0.6550    \n",
      "Epoch 18/50\n",
      "19200/19200 [==============================] - 19s - loss: 0.1064 - acc: 0.6533    \n",
      "Epoch 19/50\n",
      "19200/19200 [==============================] - 19s - loss: 0.1062 - acc: 0.6531    \n",
      "Epoch 20/50\n",
      "19200/19200 [==============================] - 19s - loss: 0.1058 - acc: 0.6577    \n",
      "Epoch 21/50\n",
      "19200/19200 [==============================] - 19s - loss: 0.1053 - acc: 0.6608    \n",
      "Epoch 22/50\n",
      "19200/19200 [==============================] - 19s - loss: 0.1050 - acc: 0.6635    - ETA: 0s - loss: 0.1050 - acc: 0.66\n",
      "Epoch 23/50\n",
      "19200/19200 [==============================] - 19s - loss: 0.1050 - acc: 0.6628    \n",
      "Epoch 24/50\n",
      "19200/19200 [==============================] - 19s - loss: 0.1048 - acc: 0.6627    \n",
      "Epoch 25/50\n",
      "19200/19200 [==============================] - 19s - loss: 0.1048 - acc: 0.6616    - ETA: 0s - loss: 0.1049 - acc: 0.\n",
      "Epoch 26/50\n",
      "19200/19200 [==============================] - 19s - loss: 0.1049 - acc: 0.6597    \n",
      "Epoch 27/50\n",
      "19200/19200 [==============================] - 19s - loss: 0.1033 - acc: 0.6699    \n",
      "Epoch 28/50\n",
      "19200/19200 [==============================] - 19s - loss: 0.1035 - acc: 0.6684    \n",
      "Epoch 29/50\n",
      "19200/19200 [==============================] - 19s - loss: 0.1033 - acc: 0.6691    \n",
      "Epoch 30/50\n",
      "19200/19200 [==============================] - 20s - loss: 0.1035 - acc: 0.6710    \n",
      "Epoch 31/50\n",
      "19200/19200 [==============================] - 19s - loss: 0.1025 - acc: 0.6727    \n",
      "Epoch 32/50\n",
      "19200/19200 [==============================] - 19s - loss: 0.1020 - acc: 0.6753    \n",
      "Epoch 33/50\n",
      "19200/19200 [==============================] - 19s - loss: 0.1026 - acc: 0.6757    \n",
      "Epoch 34/50\n",
      "19200/19200 [==============================] - 19s - loss: 0.1025 - acc: 0.6719    \n",
      "Epoch 35/50\n",
      "19200/19200 [==============================] - 19s - loss: 0.1018 - acc: 0.6764    \n",
      "Epoch 36/50\n",
      "19200/19200 [==============================] - 19s - loss: 0.1021 - acc: 0.6787    \n",
      "Epoch 37/50\n",
      "19200/19200 [==============================] - 19s - loss: 0.1016 - acc: 0.6755    \n",
      "Epoch 38/50\n",
      "19200/19200 [==============================] - 19s - loss: 0.1015 - acc: 0.6772    \n",
      "Epoch 39/50\n",
      "19200/19200 [==============================] - 19s - loss: 0.1015 - acc: 0.6779    \n",
      "Epoch 40/50\n",
      "19200/19200 [==============================] - 19s - loss: 0.1012 - acc: 0.6821    \n",
      "Epoch 41/50\n",
      "19200/19200 [==============================] - 19s - loss: 0.1008 - acc: 0.6811    \n",
      "Epoch 42/50\n",
      "19200/19200 [==============================] - 19s - loss: 0.1001 - acc: 0.6856    \n",
      "Epoch 43/50\n",
      "19200/19200 [==============================] - 21s - loss: 0.1006 - acc: 0.6815    \n",
      "Epoch 44/50\n",
      "19200/19200 [==============================] - 18s - loss: 0.0995 - acc: 0.6854    \n",
      "Epoch 45/50\n",
      "19200/19200 [==============================] - 18s - loss: 0.1000 - acc: 0.6834    \n",
      "Epoch 46/50\n",
      "19200/19200 [==============================] - 18s - loss: 0.0998 - acc: 0.6855    \n",
      "Epoch 47/50\n",
      "19200/19200 [==============================] - 18s - loss: 0.1003 - acc: 0.6842    \n",
      "Epoch 48/50\n",
      "19200/19200 [==============================] - 18s - loss: 0.0988 - acc: 0.6881    \n",
      "Epoch 49/50\n",
      "19200/19200 [==============================] - 19s - loss: 0.0999 - acc: 0.6835    \n",
      "Epoch 50/50\n",
      "19200/19200 [==============================] - 21s - loss: 0.0987 - acc: 0.6896    \n",
      "Wall time: 16min 6s\n"
     ]
    }
   ],
   "source": [
    "%%time\n",
    "cnn = Sequential()\n",
    "\n",
    "cnn.add(Reshape(image_size3, input_shape=(1,total_image_size)))\n",
    "cnn.add(Conv2D(filters=32, kernel_size=(3, 3), padding='same'))\n",
    "cnn.add(Activation('relu'))\n",
    "cnn.add(MaxPooling2D(pool_size=(2, 2), data_format=\"channels_first\"))\n",
    "\n",
    "cnn.add(Dropout(.25))\n",
    "cnn.add(Conv2D(filters=64, kernel_size=(3, 3), padding='same'))\n",
    "cnn.add(Activation('relu'))\n",
    "cnn.add(Dropout(.25))\n",
    "cnn.add(Conv2D(filters=64, kernel_size=(3, 3), padding='same'))\n",
    "cnn.add(Activation('relu'))\n",
    "cnn.add(MaxPooling2D(pool_size=(2, 2), data_format=\"channels_first\"))\n",
    "\n",
    "cnn.add(Dropout(.2))\n",
    "cnn.add(Conv2D(filters=128, kernel_size=(3, 3), padding='same'))\n",
    "cnn.add(Activation('relu'))\n",
    "cnn.add(Dropout(.2))\n",
    "cnn.add(Conv2D(filters=256, kernel_size=(3, 3), padding='same'))\n",
    "cnn.add(Activation('relu'))\n",
    "cnn.add(MaxPooling2D(pool_size=(2, 2), data_format=\"channels_first\"))\n",
    "\n",
    "\n",
    "cnn.add(Flatten())\n",
    "cnn.add(Dense(2))\n",
    "cnn.add(Activation('softmax'))\n",
    "\n",
    "cnn.compile(loss='mean_squared_logarithmic_error',\n",
    "            optimizer='adam',\n",
    "            metrics=['accuracy'])\n",
    "\n",
    "cnn.fit(np.expand_dims(X_train, axis=1), y_ohe_train, batch_size=32, epochs=50, shuffle=True, verbose=1)"
   ]
  },
  {
   "cell_type": "code",
   "execution_count": 68,
   "metadata": {},
   "outputs": [
    {
     "ename": "SyntaxError",
     "evalue": "invalid syntax (<ipython-input-68-dda3353654b6>, line 3)",
     "output_type": "error",
     "traceback": [
      "\u001b[1;36m  File \u001b[1;32m\"<ipython-input-68-dda3353654b6>\"\u001b[1;36m, line \u001b[1;32m3\u001b[0m\n\u001b[1;33m    acc = mt.accuracy_score(y_test, yhat)\u001b[0m\n\u001b[1;37m      ^\u001b[0m\n\u001b[1;31mSyntaxError\u001b[0m\u001b[1;31m:\u001b[0m invalid syntax\n"
     ]
    }
   ],
   "source": [
    "yhat = np.argmax(cnn.predict(np.expand_dims(X_test, axis=1)), axis=1)\n",
    "yhat_probs = np.argmax(cnn.predict_proba(np.expand_dims(X_test, axis=1)))\n",
    "acc = mt.accuracy_score(y_test, yhat)\n",
    "acc"
   ]
  },
  {
   "cell_type": "markdown",
   "metadata": {},
   "source": [
    "#### [10 points] Compare the performance of your convolutional network to a standard multi-layer perceptron (MLP) using the receiver operating characteristic and area under the curve."
   ]
  },
  {
   "cell_type": "code",
   "execution_count": null,
   "metadata": {
    "collapsed": true
   },
   "outputs": [],
   "source": [
    "mlp = Sequential()\n",
    "mlp.add( Dense(input_dim=X_train.shape[1], units=30, activation='relu') )\n",
    "mlp.add( Dense(units=15, activation='relu') )\n",
    "mlp.add( Dense(2) )\n",
    "mlp.add( Activation('softmax') )\n",
    "\n",
    "mlp.compile(loss='mean_squared_error',\n",
    "              optimizer='adam',\n",
    "              metrics=['accuracy'])\n",
    "\n",
    "mlp.fit(X_train, y_ohe_train, \n",
    "        batch_size=32, epochs=100, \n",
    "        shuffle=True, verbose=0)"
   ]
  },
  {
   "cell_type": "code",
   "execution_count": null,
   "metadata": {
    "collapsed": true
   },
   "outputs": [],
   "source": [
    "yhat_mlp = np.argmax(mlp.predict(X_test), axis=1)\n",
    "ypred_mlp = np.argmax(mlp.predict_proba(X_test), axis=1)\n",
    "acc_mlp = mt.accuracy_score(y_test,yhat_mlp)\n",
    "\n",
    "cnn_fpr, cnn_tpr, cnn_thresholds = mt.roc_curve(y_test, yhat_probs, pos_label=0)\n",
    "cnn_fpr1, cnn_tpr1, cnn_thresholds1 = mt.roc_curve(y_test, yhat_probs, pos_label=1)\n",
    "cnn_auc_score = mt.roc_auc_score(y_test, yhat_probs)\n",
    "\n",
    "mlp_fpr, mlp_tpr, mlp_thresholds = mt.roc_curve(y_test, ypred_mlp, pos_label=0)\n",
    "mlp_fpr1, mlp_tpr1, mlp_thresholds1 = mt.roc_curve(y_test, ypred_mlp, pos_label=1)\n",
    "mlp_auc_score = mt.roc_auc_score(y_test, ypred_mlp)"
   ]
  },
  {
   "cell_type": "markdown",
   "metadata": {},
   "source": [
    "## Exceptional Work (10 points total)\n",
    "#### One idea: Visualize the convolutional filters chosen by your CNN. Try to interpret some of their meanings."
   ]
  },
  {
   "cell_type": "code",
   "execution_count": null,
   "metadata": {
    "collapsed": true
   },
   "outputs": [],
   "source": []
  }
 ],
 "metadata": {
  "anaconda-cloud": {},
  "kernelspec": {
   "display_name": "Python [conda env:tensor]",
   "language": "python",
   "name": "conda-env-tensor-py"
  },
  "language_info": {
   "codemirror_mode": {
    "name": "ipython",
    "version": 3
   },
   "file_extension": ".py",
   "mimetype": "text/x-python",
   "name": "python",
   "nbconvert_exporter": "python",
   "pygments_lexer": "ipython3",
   "version": "3.5.3"
  }
 },
 "nbformat": 4,
 "nbformat_minor": 2
}
